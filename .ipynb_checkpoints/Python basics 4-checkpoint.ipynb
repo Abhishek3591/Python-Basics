{
 "cells": [
  {
   "cell_type": "code",
   "execution_count": 10,
   "metadata": {},
   "outputs": [
    {
     "name": "stdout",
     "output_type": "stream",
     "text": [
      "28\n"
     ]
    }
   ],
   "source": [
    "variable1 , variable2 = 23 , 5 \n",
    "print(variable1 + variable2)"
   ]
  },
  {
   "cell_type": "code",
   "execution_count": 11,
   "metadata": {},
   "outputs": [
    {
     "name": "stdout",
     "output_type": "stream",
     "text": [
      "18\n",
      "115\n",
      "4.6\n",
      "3\n",
      "4\n",
      "6436343\n"
     ]
    }
   ],
   "source": [
    "print(variable1 - variable2)\n",
    "print(variable1 * variable2)\n",
    "print(variable1 / variable2)\n",
    "print(variable1 % variable2)\n",
    "print(variable1 // variable2)\n",
    "print(variable1 ** variable2)"
   ]
  },
  {
   "cell_type": "code",
   "execution_count": 12,
   "metadata": {},
   "outputs": [
    {
     "name": "stdout",
     "output_type": "stream",
     "text": [
      "True\n",
      "False\n",
      "False\n",
      "True\n",
      "True\n",
      "False\n"
     ]
    }
   ],
   "source": [
    "print(variable1 > variable2)\n",
    "print(variable1 < variable2)\n",
    "print(variable1 == variable2)\n",
    "print(variable1 != variable2)\n",
    "print(variable1 >= variable2)\n",
    "print(variable1 <= variable2)"
   ]
  },
  {
   "cell_type": "code",
   "execution_count": 14,
   "metadata": {},
   "outputs": [
    {
     "name": "stdout",
     "output_type": "stream",
     "text": [
      "5\n",
      "23\n",
      "-6\n",
      "18\n",
      "0\n",
      "736\n"
     ]
    }
   ],
   "source": [
    "print(variable1 & variable2)\n",
    "print(variable1 | variable2)\n",
    "print(~ variable2)\n",
    "print(variable1 ^ variable2)\n",
    "print(variable1 >> variable2)\n",
    "print(variable1 << variable2)\n"
   ]
  },
  {
   "cell_type": "code",
   "execution_count": 22,
   "metadata": {},
   "outputs": [
    {
     "name": "stdout",
     "output_type": "stream",
     "text": [
      "44\n",
      "40\n",
      "200\n",
      "10.0\n",
      "4.0\n",
      "256.0\n"
     ]
    }
   ],
   "source": [
    "Age = 40\n",
    "\n",
    "Age += 4\n",
    "print(Age)\n",
    "\n",
    "Age -= 4\n",
    "print(Age)\n",
    "\n",
    "Age *= 5\n",
    "print(Age)\n",
    "\n",
    "Age /= 20\n",
    "print(Age)\n",
    "\n",
    "Age %= 6\n",
    "print(Age)\n",
    "\n",
    "Age **= 4\n",
    "print(Age)"
   ]
  },
  {
   "cell_type": "code",
   "execution_count": 24,
   "metadata": {},
   "outputs": [
    {
     "name": "stdout",
     "output_type": "stream",
     "text": [
      "True\n"
     ]
    }
   ],
   "source": [
    "jarvis = 10 \n",
    "Ultron = 20\n",
    "print(jarvis is not Ultron)"
   ]
  },
  {
   "cell_type": "code",
   "execution_count": 26,
   "metadata": {},
   "outputs": [
    {
     "name": "stdout",
     "output_type": "stream",
     "text": [
      "False\n"
     ]
    }
   ],
   "source": [
    "mylist1 = [1,2,5,6,\"Aquaman\"]\n",
    "print(\"Aquaman\" not in  mylist1)"
   ]
  },
  {
   "cell_type": "code",
   "execution_count": 29,
   "metadata": {},
   "outputs": [
    {
     "name": "stdout",
     "output_type": "stream",
     "text": [
      "True\n",
      "False\n"
     ]
    }
   ],
   "source": [
    "myDictionary = {100 : \"Tony\", 200 : \"Steve\", 300 : \"Thor\"}\n",
    "print(100 in myDictionary)\n",
    "print(\"Tony\" in myDictionary)"
   ]
  },
  {
   "cell_type": "code",
   "execution_count": 37,
   "metadata": {},
   "outputs": [
    {
     "name": "stdout",
     "output_type": "stream",
     "text": [
      "This is negative\n",
      "This is positive\n"
     ]
    }
   ],
   "source": [
    "if -1:\n",
    "    print(\"This is negative\")\n",
    "print(\"This is positive\")    \n",
    "    "
   ]
  },
  {
   "cell_type": "code",
   "execution_count": 41,
   "metadata": {},
   "outputs": [
    {
     "name": "stdout",
     "output_type": "stream",
     "text": [
      "False\n"
     ]
    }
   ],
   "source": [
    "val = None\n",
    "print(bool(val))"
   ]
  },
  {
   "cell_type": "code",
   "execution_count": 1,
   "metadata": {},
   "outputs": [
    {
     "name": "stdout",
     "output_type": "stream",
     "text": [
      "Not Ohkk\n"
     ]
    }
   ],
   "source": [
    "Team =12\n",
    "if Team >= 15:\n",
    "    print(\"Team size ohkk\")\n",
    "else:\n",
    "    print(\"Not Ohkk\")"
   ]
  },
  {
   "cell_type": "code",
   "execution_count": 3,
   "metadata": {},
   "outputs": [
    {
     "name": "stdout",
     "output_type": "stream",
     "text": [
      "Adult\n"
     ]
    }
   ],
   "source": [
    "Age = 24\n",
    "if Age> 19:\n",
    "    print(\"Adult\")\n",
    "elif Age > 12:\n",
    "    print(\"Adolescent\")\n",
    "else:\n",
    "    print(Child)\n",
    "    "
   ]
  },
  {
   "cell_type": "code",
   "execution_count": 5,
   "metadata": {},
   "outputs": [
    {
     "name": "stdout",
     "output_type": "stream",
     "text": [
      "Adolescent\n"
     ]
    }
   ],
   "source": [
    "Umar = 15\n",
    "if Umar > 13:\n",
    "    if Umar <= 19:\n",
    "        print('Adolescent')\n",
    "    else :\n",
    "        print('Adult')\n",
    "else: \n",
    "    print(\"Child\")\n",
    "        "
   ]
  },
  {
   "cell_type": "code",
   "execution_count": 46,
   "metadata": {},
   "outputs": [
    {
     "name": "stdout",
     "output_type": "stream",
     "text": [
      "The person is in category: Teen\n"
     ]
    }
   ],
   "source": [
    "Aayu = 20\n",
    "person_type = \"Unclear\"\n",
    "\n",
    "if Aayu > 17 and Aayu <= 24:\n",
    "    person_type = \"Teen\"\n",
    "elif Aayu > 0 and Aayu <=17:\n",
    "    person_type = \"Child\"\n",
    "else:\n",
    "    person_type = \"Adult\"\n",
    "    \n",
    "print(\"The person is in category: {}\". format(person_type))    \n",
    "    "
   ]
  },
  {
   "cell_type": "code",
   "execution_count": 53,
   "metadata": {},
   "outputs": [
    {
     "name": "stdout",
     "output_type": "stream",
     "text": [
      "Sum of array is : 15\n"
     ]
    }
   ],
   "source": [
    "myList =[ 1,2,3,4,5]\n",
    "\n",
    "Sum = 0\n",
    "Index = 0\n",
    "\n",
    "while Index < len(myList):\n",
    "    Sum += myList[Index]\n",
    "    Index += 1\n",
    "print(\"Sum of array is : {}\".format(Sum))"
   ]
  },
  {
   "cell_type": "code",
   "execution_count": 2,
   "metadata": {},
   "outputs": [
    {
     "name": "stdout",
     "output_type": "stream",
     "text": [
      "1\n",
      "2\n",
      "3\n",
      "4\n",
      "5\n",
      "bas boht ho gya\n"
     ]
    }
   ],
   "source": [
    "myList =[ 1,2,3,4,5]\n",
    "Index = 0\n",
    "while Index < len(myList):\n",
    "    print(myList[Index])\n",
    "    Index += 1\n",
    "else:\n",
    "    print(\"bas boht ho gya\")"
   ]
  },
  {
   "cell_type": "markdown",
   "metadata": {},
   "source": [
    "UserInput = input(\"Enter a positive no\")\n",
    "Newinput = int(UserInput)\n",
    "\n",
    "if Newinput <= 0:\n",
    "    print(\"Postive no nhi h yeh\")\n",
    "    UserInput = input(\"Enter a positive no\")\n",
    "    Newinput = int(UserInput)\n",
    "    \n",
    "else:\n",
    "    print('Tumse naa ho payega')\n",
    "\n",
    "fact = 1\n",
    "if Newinput > 0 :\n",
    "    while Newinput > 0:\n",
    "        fact = fact * Newinput \n",
    "        Newinput -= 1\n",
    "    print(\"The factorial of new input is :\" + str(fact))   \n",
    "  "
   ]
  },
  {
   "cell_type": "code",
   "execution_count": 16,
   "metadata": {},
   "outputs": [
    {
     "name": "stdout",
     "output_type": "stream",
     "text": [
      "Sum of the array is :15\n"
     ]
    }
   ],
   "source": [
    "myList = [ 1,2,3,4,5]\n",
    "\n",
    "sum = 0\n",
    "for element in myList:\n",
    "    sum += element\n",
    "\n",
    "print('Sum of the array is :' + str(sum))"
   ]
  },
  {
   "cell_type": "code",
   "execution_count": 18,
   "metadata": {},
   "outputs": [
    {
     "name": "stdout",
     "output_type": "stream",
     "text": [
      "0\n",
      "1\n",
      "2\n",
      "3\n",
      "4\n"
     ]
    }
   ],
   "source": [
    "for element in range(5):\n",
    "    print(element)"
   ]
  },
  {
   "cell_type": "code",
   "execution_count": 23,
   "metadata": {},
   "outputs": [
    {
     "name": "stdout",
     "output_type": "stream",
     "text": [
      "12\n",
      "18\n",
      "24\n",
      "30\n",
      "36\n",
      "42\n",
      "48\n",
      "54\n"
     ]
    }
   ],
   "source": [
    "for element in range(12,60,6):\n",
    "    print(element)"
   ]
  },
  {
   "cell_type": "code",
   "execution_count": 31,
   "metadata": {},
   "outputs": [
    {
     "name": "stdout",
     "output_type": "stream",
     "text": [
      "1\n",
      "2\n",
      "3\n",
      "4\n",
      "Abhishek\n"
     ]
    }
   ],
   "source": [
    "myData = [1,2,3,4,'Abhishek']\n",
    "\n",
    "for element in myData:\n",
    "    print(element)"
   ]
  },
  {
   "cell_type": "code",
   "execution_count": 34,
   "metadata": {},
   "outputs": [
    {
     "name": "stdout",
     "output_type": "stream",
     "text": [
      "Abhishek\n",
      "Priyanka\n",
      "Sonal\n",
      "bas ho gya names\n"
     ]
    }
   ],
   "source": [
    "names = [ 'Abhishek' , 'Priyanka','Sonal']\n",
    "\n",
    "for name in names:\n",
    "    print(name)\n",
    "else:\n",
    "    print('bas ho gya names')"
   ]
  },
  {
   "cell_type": "code",
   "execution_count": 37,
   "metadata": {},
   "outputs": [
    {
     "name": "stdout",
     "output_type": "stream",
     "text": [
      "Abhishek\n",
      "Outside the loop\n"
     ]
    }
   ],
   "source": [
    "for name in names:\n",
    "    print(name)\n",
    "    if name == 'Abhishek':\n",
    "        break\n",
    "else:\n",
    "    print('bas ho gya names')\n",
    "    \n",
    "print('Outside the loop')    "
   ]
  },
  {
   "cell_type": "code",
   "execution_count": 3,
   "metadata": {},
   "outputs": [
    {
     "name": "stdout",
     "output_type": "stream",
     "text": [
      "Enter a number :-67\n",
      "Positive number daalo\n",
      "Enter a number :456\n",
      "[1, 2, 3, 4, 6, 8, 12, 19, 24, 38, 57, 76, 114, 152, 228]\n"
     ]
    }
   ],
   "source": [
    "inputnumber = input('Enter a number :')\n",
    "number = int(inputnumber)\n",
    "listofDivisor = [1]\n",
    "\n",
    "if number < 0 :\n",
    "    print('Positive number daalo')\n",
    "    inputnumber = input('Enter a number :')\n",
    "    number = int(inputnumber)\n",
    "    \n",
    "for divisor in range(2,int(number/2)+1):\n",
    "    if(number%divisor == 0):\n",
    "        listofDivisor.append(divisor)\n",
    "              \n",
    "else:\n",
    "    print(listofDivisor)  "
   ]
  },
  {
   "cell_type": "code",
   "execution_count": 8,
   "metadata": {},
   "outputs": [
    {
     "name": "stdout",
     "output_type": "stream",
     "text": [
      "Abhishek\n",
      "Sonal\n",
      "Priyanka\n",
      "Alka\n",
      "Navneet\n",
      "outside of for loop\n",
      "Completely out of the loop\n"
     ]
    }
   ],
   "source": [
    "names = ['Abhishek' , 'Sonal', 'Priyanka','Alka','Navneet']\n",
    "\n",
    "for name in names :\n",
    "    if name == 'Jarvis':\n",
    "        break\n",
    "    print(name)\n",
    "else:\n",
    "    print('outside of for loop')\n",
    "    \n",
    "print('Completely out of the loop')    \n",
    "    "
   ]
  },
  {
   "cell_type": "code",
   "execution_count": 11,
   "metadata": {},
   "outputs": [
    {
     "name": "stdout",
     "output_type": "stream",
     "text": [
      "Abhishek\n",
      "Sonal\n",
      "Alka\n",
      "Navneet\n",
      "outside of for loop\n",
      "Completely out of the loop\n"
     ]
    }
   ],
   "source": [
    "names = ['Abhishek' , 'Sonal', 'Priyanka','Alka','Navneet']\n",
    "\n",
    "for name in names :\n",
    "    if name == 'Priyanka':\n",
    "        continue\n",
    "    print(name)\n",
    "else:\n",
    "    print('outside of for loop')\n",
    "    \n",
    "print('Completely out of the loop')  "
   ]
  },
  {
   "cell_type": "code",
   "execution_count": 13,
   "metadata": {},
   "outputs": [
    {
     "name": "stdout",
     "output_type": "stream",
     "text": [
      "Enter a number :123\n",
      "[1, 41]\n"
     ]
    }
   ],
   "source": [
    "inputnumber = input('Enter a number :')\n",
    "number = int(inputnumber)\n",
    "listofDivisor = [1]\n",
    "\n",
    "if number < 0 :\n",
    "    print('Positive number daalo')\n",
    "    inputnumber = input('Enter a number :')\n",
    "    number = int(inputnumber)\n",
    "    \n",
    "for divisor in range(2,int(number/2)+1):\n",
    "    if(number%divisor == 0):\n",
    "        if divisor in [2,3]:\n",
    "            continue\n",
    "        elif len(listofDivisor) == 3 :\n",
    "            break\n",
    "        listofDivisor.append(divisor)              \n",
    "print(listofDivisor) "
   ]
  },
  {
   "cell_type": "code",
   "execution_count": 19,
   "metadata": {},
   "outputs": [
    {
     "name": "stdout",
     "output_type": "stream",
     "text": [
      "The sum of the series is : 1240.0\n"
     ]
    }
   ],
   "source": [
    "myNumber = [1,2,3,4,5,6,7,8,9,10,11,12,13,14,15]\n",
    "\n",
    "Sum = 0\n",
    "index = 0\n",
    "\n",
    "while index < len(myNumber):\n",
    "    Sum =+ (myNumber[index] * (myNumber[index] + 1) * (2 *(myNumber[index]) + 1))/6\n",
    "    index += 1\n",
    "\n",
    "print('The sum of the series is : {}'. format(Sum))\n",
    "    "
   ]
  }
 ],
 "metadata": {
  "kernelspec": {
   "display_name": "Python 3",
   "language": "python",
   "name": "python3"
  },
  "language_info": {
   "codemirror_mode": {
    "name": "ipython",
    "version": 3
   },
   "file_extension": ".py",
   "mimetype": "text/x-python",
   "name": "python",
   "nbconvert_exporter": "python",
   "pygments_lexer": "ipython3",
   "version": "3.7.0"
  }
 },
 "nbformat": 4,
 "nbformat_minor": 2
}

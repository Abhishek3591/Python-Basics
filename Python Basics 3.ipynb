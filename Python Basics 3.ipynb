{
 "cells": [
  {
   "cell_type": "code",
   "execution_count": 6,
   "metadata": {},
   "outputs": [
    {
     "name": "stdout",
     "output_type": "stream",
     "text": [
      "myInt1 : 10 is half of myInt2 : 20 \n"
     ]
    }
   ],
   "source": [
    "myInt1 = 10\n",
    "myInt2 = 20\n",
    "\n",
    "print(\"myInt1 : {} is half of myInt2 : {} \". format(myInt1,myInt2))"
   ]
  },
  {
   "cell_type": "code",
   "execution_count": 9,
   "metadata": {},
   "outputs": [
    {
     "name": "stdout",
     "output_type": "stream",
     "text": [
      "myInt2 : 20 is double of myInt1 : 10 \n"
     ]
    }
   ],
   "source": [
    "print(\"myInt2 : {} is double of myInt1 : {} \".format(myInt2,myInt1))"
   ]
  },
  {
   "cell_type": "code",
   "execution_count": 10,
   "metadata": {},
   "outputs": [
    {
     "name": "stdout",
     "output_type": "stream",
     "text": [
      "myInt2 : 20 is double of myInt1 : 10 \n"
     ]
    }
   ],
   "source": [
    "print(\"myInt2 : {1} is double of myInt1 : {0} \".format(myInt1,myInt2))"
   ]
  },
  {
   "cell_type": "code",
   "execution_count": 17,
   "metadata": {},
   "outputs": [
    {
     "name": "stdout",
     "output_type": "stream",
     "text": [
      "Hi Abhishek , Welcome to the field of data science. We are learning Python\n"
     ]
    }
   ],
   "source": [
    "print(\"Hi {0} , Welcome to the field of {1}. We are learning {2}\". format(\"Abhishek\",\"data science\",\"Python\"))"
   ]
  },
  {
   "cell_type": "code",
   "execution_count": null,
   "metadata": {},
   "outputs": [],
   "source": [
    "print('{:f};{:f}'.format(3.14,-3.14))"
   ]
  },
  {
   "cell_type": "code",
   "execution_count": 3,
   "metadata": {},
   "outputs": [
    {
     "name": "stdout",
     "output_type": "stream",
     "text": [
      "No of Marvel Movies till Now?20\n",
      "20\n",
      "<class 'str'>\n"
     ]
    }
   ],
   "source": [
    "UserStory = input(\"No of Marvel Movies till Now?\")\n",
    "print(UserStory)\n",
    "print(type(UserStory))"
   ]
  },
  {
   "cell_type": "code",
   "execution_count": 5,
   "metadata": {},
   "outputs": [
    {
     "name": "stdout",
     "output_type": "stream",
     "text": [
      "20\n",
      "<class 'int'>\n"
     ]
    }
   ],
   "source": [
    "TotalMovies = int(UserStory)\n",
    "print(TotalMovies)\n",
    "print(type(TotalMovies))"
   ]
  },
  {
   "cell_type": "code",
   "execution_count": 2,
   "metadata": {},
   "outputs": [
    {
     "name": "stdout",
     "output_type": "stream",
     "text": [
      "Release data of EndGame26 April 2019\n",
      "EndGame is releasing on : 26 April 2019\n"
     ]
    }
   ],
   "source": [
    "Endgame = input(\"Release data of EndGame\")\n",
    "print(\"EndGame is releasing on :\",Endgame)"
   ]
  },
  {
   "cell_type": "code",
   "execution_count": null,
   "metadata": {},
   "outputs": [],
   "source": []
  }
 ],
 "metadata": {
  "kernelspec": {
   "display_name": "Python 3",
   "language": "python",
   "name": "python3"
  },
  "language_info": {
   "codemirror_mode": {
    "name": "ipython",
    "version": 3
   },
   "file_extension": ".py",
   "mimetype": "text/x-python",
   "name": "python",
   "nbconvert_exporter": "python",
   "pygments_lexer": "ipython3",
   "version": "3.7.4"
  }
 },
 "nbformat": 4,
 "nbformat_minor": 2
}

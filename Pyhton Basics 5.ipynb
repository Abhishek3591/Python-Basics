{
 "cells": [
  {
   "cell_type": "code",
   "execution_count": 2,
   "metadata": {},
   "outputs": [
    {
     "name": "stdout",
     "output_type": "stream",
     "text": [
      "[1, 2, 3, 'Abhishek', 'Sonal', 'Priyanka']\n",
      "['q', 'Jarvis', 'Ultron']\n"
     ]
    }
   ],
   "source": [
    "myList1 = [ 1,2,3 , 'Abhishek','Sonal','Priyanka']\n",
    "myList2 = ['q','Jarvis','Ultron']\n",
    "            \n",
    "print(myList1)\n",
    "print(myList2)"
   ]
  },
  {
   "cell_type": "code",
   "execution_count": 3,
   "metadata": {},
   "outputs": [
    {
     "name": "stdout",
     "output_type": "stream",
     "text": [
      "[1, 2, 3, 'Abhishek', 'Sonal', 'Priyanka', 'Family']\n"
     ]
    }
   ],
   "source": [
    " myList1.append('Family')\n",
    " print(myList1)   "
   ]
  },
  {
   "cell_type": "code",
   "execution_count": 5,
   "metadata": {},
   "outputs": [
    {
     "name": "stdout",
     "output_type": "stream",
     "text": [
      "[1, 2, 3, 'Indore', 'Abhishek', 'Sonal', 'Priyanka', 'Family']\n"
     ]
    }
   ],
   "source": [
    "myList1.insert(3,'Indore')\n",
    "print(myList1)"
   ]
  },
  {
   "cell_type": "code",
   "execution_count": 8,
   "metadata": {},
   "outputs": [
    {
     "name": "stdout",
     "output_type": "stream",
     "text": [
      "[1, 2, 3, 'Indore', 'Abhishek', 'Sonal', 'Priyanka', 'Family', ['q', 'Jarvis', 'Ultron'], ['q', 'Jarvis', 'Ultron']]\n",
      "10\n"
     ]
    }
   ],
   "source": [
    "myList1.append(myList2)\n",
    "print(myList1)\n",
    "print(len(myList1))"
   ]
  },
  {
   "cell_type": "code",
   "execution_count": 9,
   "metadata": {},
   "outputs": [
    {
     "name": "stdout",
     "output_type": "stream",
     "text": [
      "[1, 2, 3, 'Indore', 'Abhishek', 'Sonal', 'Priyanka', 'Family', ['q', 'Jarvis', 'Ultron'], ['q', 'Jarvis', 'Ultron'], 'q', 'Jarvis', 'Ultron']\n",
      "13\n"
     ]
    }
   ],
   "source": [
    "myList1.extend(myList2)\n",
    "print(myList1)\n",
    "print(len(myList1))"
   ]
  },
  {
   "cell_type": "code",
   "execution_count": 26,
   "metadata": {},
   "outputs": [
    {
     "name": "stdout",
     "output_type": "stream",
     "text": [
      "[1, 2]\n"
     ]
    }
   ],
   "source": [
    "print(myList1)\n"
   ]
  },
  {
   "cell_type": "code",
   "execution_count": 27,
   "metadata": {},
   "outputs": [
    {
     "name": "stdout",
     "output_type": "stream",
     "text": [
      "['q', 'Jarvis', 'Ultron']\n"
     ]
    }
   ],
   "source": [
    "print(myList2)"
   ]
  },
  {
   "cell_type": "code",
   "execution_count": 28,
   "metadata": {},
   "outputs": [
    {
     "name": "stdout",
     "output_type": "stream",
     "text": [
      "['q', 'Ultron']\n"
     ]
    }
   ],
   "source": [
    "myList2.pop(1)\n",
    "print(myList2)"
   ]
  },
  {
   "cell_type": "code",
   "execution_count": 36,
   "metadata": {},
   "outputs": [
    {
     "name": "stdout",
     "output_type": "stream",
     "text": [
      "[]\n"
     ]
    }
   ],
   "source": [
    "myList2.remove('q')\n",
    "print(myList2)\n"
   ]
  },
  {
   "cell_type": "code",
   "execution_count": 39,
   "metadata": {},
   "outputs": [
    {
     "name": "stdout",
     "output_type": "stream",
     "text": [
      "['Abhay', 'Kunal', 'Abhishek', 3, 2, 1]\n"
     ]
    }
   ],
   "source": [
    "mixedtypeList = [1,2,3, 'Abhishek','Kunal','Abhay']\n",
    "mixedtypeList.reverse()\n",
    "\n",
    "print(mixedtypeList)"
   ]
  },
  {
   "cell_type": "code",
   "execution_count": 1,
   "metadata": {},
   "outputs": [
    {
     "name": "stdout",
     "output_type": "stream",
     "text": [
      "[1, 3, 12, 36, 45]\n",
      "[1, 3, 45, 12, 36]\n"
     ]
    }
   ],
   "source": [
    "newlist = [ 1,3,45,12,36]\n",
    "\n",
    "sorted_list = sorted(newlist)\n",
    "\n",
    "print(sorted_list)\n",
    "print(newlist)"
   ]
  },
  {
   "cell_type": "code",
   "execution_count": 3,
   "metadata": {},
   "outputs": [
    {
     "name": "stdout",
     "output_type": "stream",
     "text": [
      "reverse sorted list is : [45, 36, 12, 3, 1]\n"
     ]
    }
   ],
   "source": [
    "print('reverse sorted list is :' , sorted(newlist, reverse = True))"
   ]
  },
  {
   "cell_type": "code",
   "execution_count": 5,
   "metadata": {},
   "outputs": [
    {
     "name": "stdout",
     "output_type": "stream",
     "text": [
      "[1, 3, 12, 36, 45]\n"
     ]
    }
   ],
   "source": [
    "newlist.sort()\n",
    "print(newlist)"
   ]
  },
  {
   "cell_type": "code",
   "execution_count": 11,
   "metadata": {},
   "outputs": [
    {
     "name": "stdout",
     "output_type": "stream",
     "text": [
      "['apple', 'banana', 'grapes']\n",
      "['we', 'are', 'in', 'the', 'end', 'game', 'now']\n"
     ]
    }
   ],
   "source": [
    "stringlist = 'apple,banana,grapes'\n",
    "newlist = stringlist.split(',')\n",
    "print(newlist)\n",
    "LIST = 'we are in the end game now'\n",
    "okay = LIST.split()\n",
    "print(okay)"
   ]
  },
  {
   "cell_type": "code",
   "execution_count": 18,
   "metadata": {},
   "outputs": [
    {
     "name": "stdout",
     "output_type": "stream",
     "text": [
      "[1, 2, 3, 4, 5, 'abhishek', 'abhay', 'ruchir', 'kunal']\n",
      "[2, 3, 4, 5, 'abhishek', 'abhay', 'ruchir']\n",
      "[1, 3, 5, 'abhay', 'kunal']\n"
     ]
    }
   ],
   "source": [
    "listoflist = [1,2,3,4,5,'abhishek','abhay','ruchir','kunal']\n",
    "\n",
    "print(listoflist[:])\n",
    "print(listoflist[1:8])\n",
    "print(listoflist[::2])"
   ]
  },
  {
   "cell_type": "code",
   "execution_count": 21,
   "metadata": {},
   "outputs": [
    {
     "name": "stdout",
     "output_type": "stream",
     "text": [
      "1\n"
     ]
    }
   ],
   "source": [
    "print(listoflist.count('abhay'))"
   ]
  },
  {
   "cell_type": "code",
   "execution_count": 25,
   "metadata": {},
   "outputs": [
    {
     "name": "stdout",
     "output_type": "stream",
     "text": [
      "1\n",
      "2\n",
      "3\n",
      "4\n",
      "5\n",
      "abhishek\n",
      "abhay\n",
      "ruchir\n",
      "kunal\n"
     ]
    }
   ],
   "source": [
    "List11 = [1,2,3,4,5,'abhishek','abhay','ruchir','kunal']\n",
    "for element in List11:\n",
    "    print(element)\n"
   ]
  },
  {
   "cell_type": "code",
   "execution_count": 26,
   "metadata": {},
   "outputs": [
    {
     "name": "stdout",
     "output_type": "stream",
     "text": [
      "[0, 1, 4, 9, 16]\n"
     ]
    }
   ],
   "source": [
    "Mylist = [i**2 for i in range(5)]\n",
    "print(Mylist)\n",
    "\n",
    "# list comprehensions\n",
    "# nested list comprehensions"
   ]
  },
  {
   "cell_type": "code",
   "execution_count": 28,
   "metadata": {},
   "outputs": [
    {
     "name": "stdout",
     "output_type": "stream",
     "text": [
      "[[0, 1, 2], [0, 1, 2], [0, 1, 2], [0, 1, 2]]\n"
     ]
    }
   ],
   "source": [
    "mymatrix = []\n",
    "\n",
    "[mymatrix.append([j for j in range(3)]) for i in range(4)]\n",
    "print(mymatrix)                \n",
    "                 "
   ]
  },
  {
   "cell_type": "code",
   "execution_count": 33,
   "metadata": {},
   "outputs": [
    {
     "name": "stdout",
     "output_type": "stream",
     "text": [
      "[1, 4, 9, 16, 25, 36, 49, 64]\n",
      "[(1, 1), (2, 2), (3, 3), (4, 4), (5, 5), (6, 6), (7, 7), (8, 8)]\n",
      "[4, 6, 8]\n"
     ]
    }
   ],
   "source": [
    "myList = [1,2,3,4,5,6,7,8]\n",
    "\n",
    "newlist = [i**2 for i in myList]\n",
    "print(newlist)\n",
    "\n",
    "Newlist = [(i,i) for i in myList]\n",
    "print(Newlist)\n",
    "\n",
    "OList = [even for even in myList if even%2 == 0 and even != 2]\n",
    "print(OList)"
   ]
  },
  {
   "cell_type": "code",
   "execution_count": 48,
   "metadata": {},
   "outputs": [
    {
     "name": "stdout",
     "output_type": "stream",
     "text": [
      "[[0.5, 1.0, 1.5], [2.0, 2.5, 3.0], [3.5, 4.0, 4.5]]\n"
     ]
    }
   ],
   "source": [
    "oklist = []\n",
    "[oklist.append([(i+j)/2 for j in range(0,3)]) for i in range(1,10,3)]\n",
    "print(oklist)"
   ]
  },
  {
   "cell_type": "code",
   "execution_count": 1,
   "metadata": {},
   "outputs": [
    {
     "name": "stdout",
     "output_type": "stream",
     "text": [
      "(1, 2, 3, 4, 5)\n"
     ]
    }
   ],
   "source": [
    "mytuple = (1,2,3,4,5)\n",
    "print(mytuple)"
   ]
  },
  {
   "cell_type": "code",
   "execution_count": 2,
   "metadata": {},
   "outputs": [
    {
     "name": "stdout",
     "output_type": "stream",
     "text": [
      "(1, 2, 3, 'Abhishek', (2019, '26 April', 'Endgame'), ['Stark', 'Thor', 'Cap'])\n"
     ]
    }
   ],
   "source": [
    "nestedtuple = (1,2,3,'Abhishek',(2019,'26 April','Endgame'),['Stark','Thor','Cap'])\n",
    "print(nestedtuple)"
   ]
  },
  {
   "cell_type": "code",
   "execution_count": 5,
   "metadata": {},
   "outputs": [
    {
     "name": "stdout",
     "output_type": "stream",
     "text": [
      "['Stark', 'Thor', 'Cap']\n"
     ]
    }
   ],
   "source": [
    "print(nestedtuple[5])"
   ]
  },
  {
   "cell_type": "code",
   "execution_count": 6,
   "metadata": {},
   "outputs": [
    {
     "name": "stdout",
     "output_type": "stream",
     "text": [
      "Endgame\n"
     ]
    }
   ],
   "source": [
    "print(nestedtuple[4][2])"
   ]
  },
  {
   "cell_type": "code",
   "execution_count": 9,
   "metadata": {},
   "outputs": [
    {
     "name": "stdout",
     "output_type": "stream",
     "text": [
      "(1, 2, 3, 'Abhishek', (2019, '26 April', 'Endgame'), ['Stark', 'Thor', 'Cap'])\n",
      "('Abhishek', (2019, '26 April', 'Endgame'), ['Stark', 'Thor', 'Cap'])\n",
      "(1, 2, 3, 'Abhishek', (2019, '26 April', 'Endgame'))\n"
     ]
    }
   ],
   "source": [
    "print(nestedtuple[:])\n",
    "print(nestedtuple[-3:])\n",
    "print(nestedtuple[:-1])"
   ]
  },
  {
   "cell_type": "code",
   "execution_count": 31,
   "metadata": {},
   "outputs": [
    {
     "name": "stdout",
     "output_type": "stream",
     "text": [
      "(11, 12, 13, 14, 15, [17, 18, 'fafa', 'lafa'])\n",
      "1\n"
     ]
    }
   ],
   "source": [
    "newtuple = (11,12,13,14,15,[17,18,19,20])\n",
    "newtuple[5][2] = 'fafa'\n",
    "newtuple[5][3] = 'lafa'\n",
    "print(newtuple)    \n",
    "print(newtuple.count(13))"
   ]
  },
  {
   "cell_type": "code",
   "execution_count": 21,
   "metadata": {},
   "outputs": [
    {
     "name": "stdout",
     "output_type": "stream",
     "text": [
      "(11, 13, 14, 12, 41, 41)\n"
     ]
    }
   ],
   "source": [
    "tuples = (11,13,14) + (12,41,41)\n",
    "print(tuples)"
   ]
  },
  {
   "cell_type": "code",
   "execution_count": 32,
   "metadata": {},
   "outputs": [
    {
     "name": "stdout",
     "output_type": "stream",
     "text": [
      "('Abhishek', 'Abhishek', 'Abhishek', 'Abhishek')\n",
      "<class 'tuple'>\n"
     ]
    },
    {
     "ename": "NameError",
     "evalue": "name 'Tuples' is not defined",
     "output_type": "error",
     "traceback": [
      "\u001b[1;31m---------------------------------------------------------------------------\u001b[0m",
      "\u001b[1;31mNameError\u001b[0m                                 Traceback (most recent call last)",
      "\u001b[1;32m<ipython-input-32-504f7c43a460>\u001b[0m in \u001b[0;36m<module>\u001b[1;34m()\u001b[0m\n\u001b[0;32m      3\u001b[0m \u001b[0mprint\u001b[0m\u001b[1;33m(\u001b[0m\u001b[0mtype\u001b[0m\u001b[1;33m(\u001b[0m\u001b[0mTuples\u001b[0m\u001b[1;33m)\u001b[0m\u001b[1;33m)\u001b[0m\u001b[1;33m\u001b[0m\u001b[0m\n\u001b[0;32m      4\u001b[0m \u001b[1;32mdel\u001b[0m \u001b[0mTuples\u001b[0m\u001b[1;33m\u001b[0m\u001b[0m\n\u001b[1;32m----> 5\u001b[1;33m \u001b[0mprint\u001b[0m\u001b[1;33m(\u001b[0m\u001b[0mTuples\u001b[0m\u001b[1;33m)\u001b[0m\u001b[1;33m\u001b[0m\u001b[0m\n\u001b[0m",
      "\u001b[1;31mNameError\u001b[0m: name 'Tuples' is not defined"
     ]
    }
   ],
   "source": [
    "Tuples = (('Abhishek',)*4)\n",
    "print(Tuples)\n",
    "print(type(Tuples))\n",
    "del Tuples\n",
    "print(Tuples)"
   ]
  },
  {
   "cell_type": "code",
   "execution_count": 37,
   "metadata": {},
   "outputs": [
    {
     "name": "stdout",
     "output_type": "stream",
     "text": [
      "5\n",
      "54\n"
     ]
    }
   ],
   "source": [
    "tuples1 = (1,2,3,'a','b','c')\n",
    "tuples2 = (12,32,11,43,54,23,21)\n",
    "\n",
    "print(tuples2.index(23))\n",
    "print(tuples2[4])"
   ]
  },
  {
   "cell_type": "code",
   "execution_count": 43,
   "metadata": {},
   "outputs": [
    {
     "name": "stdout",
     "output_type": "stream",
     "text": [
      "(12, 32, 11, 43, 54, 23, 21)\n",
      "[11, 12, 21, 23, 32, 43, 54]\n",
      "[54, 43, 32, 23, 21, 12, 11]\n"
     ]
    }
   ],
   "source": [
    "Rtuple = sorted(tuples2)\n",
    "print(tuples2)\n",
    "print(Rtuple)\n",
    "print(sorted(tuples2, reverse = True ))"
   ]
  },
  {
   "cell_type": "code",
   "execution_count": 44,
   "metadata": {},
   "outputs": [
    {
     "name": "stdout",
     "output_type": "stream",
     "text": [
      "54\n",
      "11\n",
      "196\n"
     ]
    }
   ],
   "source": [
    "lasttuple = (12,32,11,43,54,23,21)\n",
    "print(max(lasttuple))\n",
    "print(min(lasttuple))\n",
    "print(sum(lasttuple))"
   ]
  },
  {
   "cell_type": "code",
   "execution_count": 47,
   "metadata": {},
   "outputs": [
    {
     "name": "stdout",
     "output_type": "stream",
     "text": [
      "{1, 2, 3}\n",
      "{1, 3, 4, 5, 8}\n",
      "<class 'set'>\n"
     ]
    }
   ],
   "source": [
    "myset = {1,2,3}\n",
    "myset1 = {1,3,4,1,5,8}\n",
    "print(myset)\n",
    "print(myset1)\n",
    "print(type(myset))"
   ]
  },
  {
   "cell_type": "code",
   "execution_count": 53,
   "metadata": {},
   "outputs": [
    {
     "name": "stdout",
     "output_type": "stream",
     "text": [
      "{3, 1, 'a', 'b'}\n",
      "{1, 2, 3, 'a', 4, 5, 6, 'Jarvis', 'Ultron', 'Thanos', 'b'}\n"
     ]
    }
   ],
   "source": [
    "set1 = {'a','b',1}\n",
    "set1.add(3)\n",
    "print(set1)\n",
    "set1.update([1,2,3,4,5,6,'Jarvis','Ultron','Thanos'])\n",
    "print(set1)"
   ]
  },
  {
   "cell_type": "code",
   "execution_count": 57,
   "metadata": {},
   "outputs": [
    {
     "name": "stdout",
     "output_type": "stream",
     "text": [
      "{1, 5, 6, 'thor', 'thanos', 'tony', 'steve'}\n"
     ]
    }
   ],
   "source": [
    "tset = {1,3,5,6,'tony','steve','thor','thanos'}\n",
    "tset.remove(3)\n",
    "print(tset)"
   ]
  },
  {
   "cell_type": "code",
   "execution_count": 59,
   "metadata": {},
   "outputs": [
    {
     "name": "stdout",
     "output_type": "stream",
     "text": [
      "{1, 6, 'thor', 'thanos', 'tony', 'steve'}\n"
     ]
    }
   ],
   "source": [
    "tset.discard(5)\n",
    "print(tset)"
   ]
  },
  {
   "cell_type": "code",
   "execution_count": 61,
   "metadata": {},
   "outputs": [
    {
     "name": "stdout",
     "output_type": "stream",
     "text": [
      "{'thor', 'thanos', 'tony', 'steve'}\n",
      "{'thanos', 'tony', 'steve'}\n"
     ]
    }
   ],
   "source": [
    "tset.pop()\n",
    "print(tset)\n",
    "tset.pop()\n",
    "print(tset)"
   ]
  },
  {
   "cell_type": "code",
   "execution_count": 63,
   "metadata": {},
   "outputs": [
    {
     "name": "stdout",
     "output_type": "stream",
     "text": [
      "set()\n"
     ]
    }
   ],
   "source": [
    "tset.clear()\n",
    "print(tset)"
   ]
  },
  {
   "cell_type": "code",
   "execution_count": 67,
   "metadata": {},
   "outputs": [
    {
     "name": "stdout",
     "output_type": "stream",
     "text": [
      "{1, 2, 3, 4, 5, 6, 7}\n",
      "{1, 2, 3, 4, 5, 6, 7}\n",
      "{3, 4, 5}\n",
      "{3, 4, 5}\n",
      "{6, 7}\n",
      "{6, 7}\n",
      "{1, 2, 6, 7}\n",
      "{1, 2, 6, 7}\n"
     ]
    }
   ],
   "source": [
    "set1 = {1,2,3,4,5}\n",
    "set2 = {3,4,5,6,7}\n",
    "\n",
    "print(set1 | set2)\n",
    "print(set1.union(set2))\n",
    "print(set1 & set2)\n",
    "print(set1.intersection(set2))\n",
    "print(set2 - set1)\n",
    "print(set2.difference(set1))\n",
    "print(set2 ^ set1)\n",
    "print(set2.symmetric_difference(set1))"
   ]
  },
  {
   "cell_type": "code",
   "execution_count": 71,
   "metadata": {},
   "outputs": [
    {
     "name": "stdout",
     "output_type": "stream",
     "text": [
      "is a subset of b False\n",
      "True\n"
     ]
    }
   ],
   "source": [
    "a = {1,2,3,4,5}\n",
    "b = {2,3}\n",
    "\n",
    "print('is a subset of b',a.issubset(b))\n",
    "print(b.issubset(a))"
   ]
  },
  {
   "cell_type": "code",
   "execution_count": 84,
   "metadata": {},
   "outputs": [
    {
     "name": "stdout",
     "output_type": "stream",
     "text": [
      "frozenset({1, 2, 3, 4, 5})\n"
     ]
    },
    {
     "ename": "AttributeError",
     "evalue": "'frozenset' object has no attribute 'add'",
     "output_type": "error",
     "traceback": [
      "\u001b[1;31m---------------------------------------------------------------------------\u001b[0m",
      "\u001b[1;31mAttributeError\u001b[0m                            Traceback (most recent call last)",
      "\u001b[1;32m<ipython-input-84-a8340426438e>\u001b[0m in \u001b[0;36m<module>\u001b[1;34m()\u001b[0m\n\u001b[0;32m      1\u001b[0m \u001b[0mmyset1\u001b[0m \u001b[1;33m=\u001b[0m  \u001b[0mfrozenset\u001b[0m\u001b[1;33m(\u001b[0m\u001b[1;33m[\u001b[0m\u001b[1;36m1\u001b[0m\u001b[1;33m,\u001b[0m\u001b[1;36m2\u001b[0m\u001b[1;33m,\u001b[0m\u001b[1;36m3\u001b[0m\u001b[1;33m,\u001b[0m\u001b[1;36m4\u001b[0m\u001b[1;33m,\u001b[0m\u001b[1;36m5\u001b[0m\u001b[1;33m]\u001b[0m\u001b[1;33m)\u001b[0m\u001b[1;33m\u001b[0m\u001b[0m\n\u001b[0;32m      2\u001b[0m \u001b[0mprint\u001b[0m\u001b[1;33m(\u001b[0m\u001b[0mmyset1\u001b[0m\u001b[1;33m)\u001b[0m\u001b[1;33m\u001b[0m\u001b[0m\n\u001b[1;32m----> 3\u001b[1;33m \u001b[0mmyset1\u001b[0m\u001b[1;33m.\u001b[0m\u001b[0madd\u001b[0m\u001b[1;33m(\u001b[0m\u001b[1;36m13\u001b[0m\u001b[1;33m)\u001b[0m\u001b[1;33m\u001b[0m\u001b[0m\n\u001b[0m\u001b[0;32m      4\u001b[0m \u001b[0mprint\u001b[0m\u001b[1;33m(\u001b[0m\u001b[0mmyset1\u001b[0m\u001b[1;33m)\u001b[0m\u001b[1;33m\u001b[0m\u001b[0m\n\u001b[0;32m      5\u001b[0m \u001b[0mprint\u001b[0m\u001b[1;33m(\u001b[0m\u001b[0mmyset\u001b[0m\u001b[1;33m[\u001b[0m\u001b[1;36m3\u001b[0m\u001b[1;33m]\u001b[0m\u001b[1;33m)\u001b[0m\u001b[1;33m\u001b[0m\u001b[0m\n",
      "\u001b[1;31mAttributeError\u001b[0m: 'frozenset' object has no attribute 'add'"
     ]
    }
   ],
   "source": [
    "myset1 =  frozenset([1,2,3,4,5])\n",
    "print(myset1)\n",
    "myset1.add(13)\n",
    "print(myset1)\n",
    "print(myset[3])\n",
    "'''frozensets are immutable in nature\n",
    "they can be used as keys in dictionary''' \n"
   ]
  },
  {
   "cell_type": "code",
   "execution_count": 85,
   "metadata": {},
   "outputs": [
    {
     "name": "stdout",
     "output_type": "stream",
     "text": [
      "{100: 'Abhishek', 50: 'Stark'}\n"
     ]
    }
   ],
   "source": [
    "dict = {100:'Abhishek',50 : 'Stark'}\n",
    "print(dict)"
   ]
  },
  {
   "cell_type": "code",
   "execution_count": 87,
   "metadata": {},
   "outputs": [
    {
     "name": "stdout",
     "output_type": "stream",
     "text": [
      "{1: 'tony', 2: ['jarvis', 'ultron']}\n"
     ]
    }
   ],
   "source": [
    "dict1 = {1:'tony',2:['jarvis','ultron']}\n",
    "print(dict1)"
   ]
  },
  {
   "cell_type": "code",
   "execution_count": 11,
   "metadata": {},
   "outputs": [
    {
     "name": "stdout",
     "output_type": "stream",
     "text": [
      "{4: 'abcd', 2: 'ab', 3: 'abhishek'}\n"
     ]
    }
   ],
   "source": [
    "myDict = dict()\n",
    "myDict = dict([(4,'abcd'),(2,'ab'),(3,'abhishek')])\n",
    "print(myDict)"
   ]
  },
  {
   "cell_type": "code",
   "execution_count": 125,
   "metadata": {},
   "outputs": [
    {
     "name": "stdout",
     "output_type": "stream",
     "text": [
      "Tirpude\n",
      "None\n"
     ]
    }
   ],
   "source": [
    "Dicta = {'A': 'Abhishek','B':'Tirpude','C':'Surname' }\n",
    "print(Dicta['B'])\n",
    "print(Dicta.get('D'))"
   ]
  },
  {
   "cell_type": "code",
   "execution_count": 133,
   "metadata": {},
   "outputs": [
    {
     "name": "stdout",
     "output_type": "stream",
     "text": [
      "{'name': 'Abhi', 'hobby': 'cricket', 'marks': 'bad'}\n",
      "{'name': 'Abhi', 'hobby': 'cricket', 'marks': 'bad', 'division': 'A'}\n"
     ]
    }
   ],
   "source": [
    "Dicte = {'name' : 'Abhishek' , 'hobby' : 'cricket', 'marks' : 'bad'}\n",
    "Dicte['name'] = 'Abhi'\n",
    "print(Dicte)\n",
    "\n",
    "Dicte['division'] = 'A'\n",
    "print(Dicte)"
   ]
  },
  {
   "cell_type": "code",
   "execution_count": 134,
   "metadata": {},
   "outputs": [
    {
     "name": "stdout",
     "output_type": "stream",
     "text": [
      "{'hobby': 'cricket', 'marks': 'bad', 'division': 'A'}\n"
     ]
    }
   ],
   "source": [
    "Dicte.pop('name')\n",
    "print(Dicte)"
   ]
  },
  {
   "cell_type": "code",
   "execution_count": 139,
   "metadata": {},
   "outputs": [
    {
     "ename": "NameError",
     "evalue": "name 'Dicte' is not defined",
     "output_type": "error",
     "traceback": [
      "\u001b[1;31m---------------------------------------------------------------------------\u001b[0m",
      "\u001b[1;31mNameError\u001b[0m                                 Traceback (most recent call last)",
      "\u001b[1;32m<ipython-input-139-0f6976fa3071>\u001b[0m in \u001b[0;36m<module>\u001b[1;34m()\u001b[0m\n\u001b[1;32m----> 1\u001b[1;33m \u001b[1;32mdel\u001b[0m \u001b[0mDicte\u001b[0m\u001b[1;33m[\u001b[0m\u001b[1;34m'hobby'\u001b[0m\u001b[1;33m]\u001b[0m\u001b[1;33m\u001b[0m\u001b[0m\n\u001b[0m\u001b[0;32m      2\u001b[0m \u001b[0mprint\u001b[0m\u001b[1;33m(\u001b[0m\u001b[0mDicte\u001b[0m\u001b[1;33m)\u001b[0m\u001b[1;33m\u001b[0m\u001b[0m\n\u001b[0;32m      3\u001b[0m \u001b[1;33m\u001b[0m\u001b[0m\n\u001b[0;32m      4\u001b[0m \u001b[1;32mdel\u001b[0m \u001b[0mDicte\u001b[0m\u001b[1;33m\u001b[0m\u001b[0m\n\u001b[0;32m      5\u001b[0m \u001b[0mprint\u001b[0m\u001b[1;33m(\u001b[0m\u001b[0mDicte\u001b[0m\u001b[1;33m)\u001b[0m\u001b[1;33m\u001b[0m\u001b[0m\n",
      "\u001b[1;31mNameError\u001b[0m: name 'Dicte' is not defined"
     ]
    }
   ],
   "source": [
    "del Dicte['hobby']\n",
    "print(Dicte)\n",
    "\n",
    "del Dicte\n",
    "print(Dicte)"
   ]
  },
  {
   "cell_type": "code",
   "execution_count": 140,
   "metadata": {},
   "outputs": [
    {
     "name": "stdout",
     "output_type": "stream",
     "text": [
      "{1: 2, 3: 4, 5: 6, 7: 8}\n"
     ]
    }
   ],
   "source": [
    "dict = {1:2,3:4,5:6,7:8}\n",
    "dict1 = dict.copy()\n",
    "print(dict1)"
   ]
  },
  {
   "cell_type": "code",
   "execution_count": 147,
   "metadata": {},
   "outputs": [
    {
     "name": "stdout",
     "output_type": "stream",
     "text": [
      "dict_keys([1, 3, 5, 7])\n",
      "dict_values([2, 4, 6, 8])\n",
      "dict_items([(1, 2), (3, 4), (5, 6), (7, 8)])\n"
     ]
    }
   ],
   "source": [
    "print(dict.keys())\n",
    "print(dict.values())\n",
    "print(dict.items())"
   ]
  },
  {
   "cell_type": "code",
   "execution_count": 146,
   "metadata": {},
   "outputs": [
    {
     "name": "stdout",
     "output_type": "stream",
     "text": [
      "{'apple': 45, 'banana': 45, 'grapes': 45}\n"
     ]
    }
   ],
   "source": [
    "fruits = {}.fromkeys(['apple','banana','grapes'],45)\n",
    "print(fruits)"
   ]
  },
  {
   "cell_type": "code",
   "execution_count": 148,
   "metadata": {},
   "outputs": [
    {
     "name": "stdout",
     "output_type": "stream",
     "text": [
      "['__class__', '__contains__', '__delattr__', '__delitem__', '__dir__', '__doc__', '__eq__', '__format__', '__ge__', '__getattribute__', '__getitem__', '__gt__', '__hash__', '__init__', '__init_subclass__', '__iter__', '__le__', '__len__', '__lt__', '__ne__', '__new__', '__reduce__', '__reduce_ex__', '__repr__', '__setattr__', '__setitem__', '__sizeof__', '__str__', '__subclasshook__', 'clear', 'copy', 'fromkeys', 'get', 'items', 'keys', 'pop', 'popitem', 'setdefault', 'update', 'values']\n"
     ]
    }
   ],
   "source": [
    "dict = {}\n",
    "print(dir(dict))"
   ]
  },
  {
   "cell_type": "code",
   "execution_count": 4,
   "metadata": {},
   "outputs": [
    {
     "name": "stdout",
     "output_type": "stream",
     "text": [
      "('apples', 5)\n",
      "('banana', 12)\n",
      "('grapes', 17)\n"
     ]
    }
   ],
   "source": [
    "fruits = {'apples' : 5, 'banana' : 12 , 'grapes' : 17}\n",
    "\n",
    "for x in fruits.items():\n",
    "    print(x)"
   ]
  },
  {
   "cell_type": "code",
   "execution_count": 6,
   "metadata": {},
   "outputs": [
    {
     "name": "stdout",
     "output_type": "stream",
     "text": [
      "{'banana': 12}\n"
     ]
    }
   ],
   "source": [
    "fruits = {'apples' : 5, 'banana' : 12 , 'grapes' : 17}\n",
    "\n",
    "fruitDict = { k:v for k,v in fruits.items() if v%2 == 0}\n",
    "print(fruitDict)"
   ]
  },
  {
   "cell_type": "code",
   "execution_count": 8,
   "metadata": {},
   "outputs": [
    {
     "name": "stdout",
     "output_type": "stream",
     "text": [
      "{'banana_royal': 144}\n"
     ]
    }
   ],
   "source": [
    "FruitDict = { k + '_royal' : v*12 for k,v in fruits.items() if v%2 == 0}\n",
    "print(FruitDict)"
   ]
  },
  {
   "cell_type": "code",
   "execution_count": 16,
   "metadata": {},
   "outputs": [
    {
     "name": "stdout",
     "output_type": "stream",
     "text": [
      "Python Programming\n"
     ]
    }
   ],
   "source": [
    "string1 =  'Python'\n",
    "string2 = 'Programming'\n",
    "\n",
    "print(string1  +str(' ')+ string2)"
   ]
  },
  {
   "cell_type": "code",
   "execution_count": 19,
   "metadata": {},
   "outputs": [
    {
     "name": "stdout",
     "output_type": "stream",
     "text": [
      "total characters are : 2\n"
     ]
    }
   ],
   "source": [
    "count = 0\n",
    "for character in 'Python Programming':\n",
    "    if character == 'P':\n",
    "        count += 1\n",
    "print('total characters are :', count)    "
   ]
  },
  {
   "cell_type": "code",
   "execution_count": 21,
   "metadata": {},
   "outputs": [
    {
     "data": {
      "text/plain": [
       "'python'"
      ]
     },
     "execution_count": 21,
     "metadata": {},
     "output_type": "execute_result"
    }
   ],
   "source": [
    "'python'.lower()"
   ]
  },
  {
   "cell_type": "code",
   "execution_count": 22,
   "metadata": {},
   "outputs": [
    {
     "data": {
      "text/plain": [
       "'PYTHON'"
      ]
     },
     "execution_count": 22,
     "metadata": {},
     "output_type": "execute_result"
    }
   ],
   "source": [
    "'python'.upper()"
   ]
  },
  {
   "cell_type": "code",
   "execution_count": 23,
   "metadata": {},
   "outputs": [
    {
     "data": {
      "text/plain": [
       "['this', 'is', 'a', 'python', 'program']"
      ]
     },
     "execution_count": 23,
     "metadata": {},
     "output_type": "execute_result"
    }
   ],
   "source": [
    "'this is a python program'.split()"
   ]
  },
  {
   "cell_type": "code",
   "execution_count": 25,
   "metadata": {},
   "outputs": [
    {
     "data": {
      "text/plain": [
       "'this is a python program'"
      ]
     },
     "execution_count": 25,
     "metadata": {},
     "output_type": "execute_result"
    }
   ],
   "source": [
    "' '.join(['this' , 'is','a','python','program'])"
   ]
  },
  {
   "cell_type": "code",
   "execution_count": 28,
   "metadata": {},
   "outputs": [
    {
     "data": {
      "text/plain": [
       "2"
      ]
     },
     "execution_count": 28,
     "metadata": {},
     "output_type": "execute_result"
    }
   ],
   "source": [
    "'pythonprogrammin'.find('th')"
   ]
  },
  {
   "cell_type": "code",
   "execution_count": 29,
   "metadata": {},
   "outputs": [
    {
     "name": "stdout",
     "output_type": "stream",
     "text": [
      "Python Programming\n",
      "Python Program\n"
     ]
    }
   ],
   "source": [
    "str1 = 'Python Programming'\n",
    "\n",
    "str2 = str1.replace('Programming', 'Program')\n",
    "\n",
    "print(str1)\n",
    "print(str2)\n"
   ]
  },
  {
   "cell_type": "code",
   "execution_count": 33,
   "metadata": {},
   "outputs": [
    {
     "name": "stdout",
     "output_type": "stream",
     "text": [
      "malayalAm\n",
      "mAlayalam\n"
     ]
    }
   ],
   "source": [
    "mystring = 'mAlayalam'\n",
    "\n",
    "revstring = ''\n",
    "for character in mystring:\n",
    "    revstring = character + revstring\n",
    "print(revstring)  \n",
    "print(mystring)"
   ]
  },
  {
   "cell_type": "code",
   "execution_count": 44,
   "metadata": {},
   "outputs": [
    {
     "name": "stdout",
     "output_type": "stream",
     "text": [
      "palindrome\n"
     ]
    }
   ],
   "source": [
    "mystring = mystring.lower()\n",
    "revstring= revstring.lower()\n",
    "\n",
    "if mystring == revstring:\n",
    "    print('palindrome')\n",
    "else:    \n",
    "    print('not palindrome')"
   ]
  },
  {
   "cell_type": "code",
   "execution_count": 60,
   "metadata": {},
   "outputs": [
    {
     "name": "stdout",
     "output_type": "stream",
     "text": [
      "['this', 'python', 'programmning', 'language', 'is', 'a']\n",
      " python programmning language is a This \n",
      "['python', 'programmning', 'language', 'is', 'a', 'This']\n"
     ]
    }
   ],
   "source": [
    "string1 = 'This is a python programmning language'\n",
    "\n",
    "strings = string1.split()\n",
    "print(string2)\n",
    "\n",
    "strings.sort(reverse =  True)\n",
    "\n",
    "revstring = ' '\n",
    "for string in strings:\n",
    "    revstring += string + ' '\n",
    "    \n",
    "print(revstring)    \n",
    "print(strings)"
   ]
  },
  {
   "cell_type": "code",
   "execution_count": null,
   "metadata": {},
   "outputs": [],
   "source": [
    "def addition(x,y):\n",
    "    return(x+y)\n",
    "def subtracction(x,y):\n",
    "    return(x-y)\n",
    "def multiplication(x,y):\n",
    "    return(x*y)\n",
    "def division(x,y):\n",
    "    return(x/y)\n",
    "\n",
    "print('1. addition')\n",
    "print('2. addition')\n",
    "print('3. multiplication')\n",
    "print('4. division')\n",
    "\n",
    "choice = int(input('enter the choice'))\n",
    "if choice > 4 :\n",
    "    print('invalid choice')  \n",
    "    choice = int(input('enter the choice')) \n",
    "    \n",
    "num1 = int(input('first number'))\n",
    "num2 = int(input('second number'))\n",
    "\n",
    "if choice == 1 :\n",
    "    print(addition(num1,num2))\n",
    "elif choice == 2:\n",
    "    print(subtracction(num1,num2))\n",
    "elif choice == 3:\n",
    "    print(multiplication(num1,num2))\n",
    "elif choice == 4:\n",
    "    print(division(num1,num2))"
   ]
  }
 ],
 "metadata": {
  "kernelspec": {
   "display_name": "Python 3",
   "language": "python",
   "name": "python3"
  },
  "language_info": {
   "codemirror_mode": {
    "name": "ipython",
    "version": 3
   },
   "file_extension": ".py",
   "mimetype": "text/x-python",
   "name": "python",
   "nbconvert_exporter": "python",
   "pygments_lexer": "ipython3",
   "version": "3.7.3"
  }
 },
 "nbformat": 4,
 "nbformat_minor": 2
}

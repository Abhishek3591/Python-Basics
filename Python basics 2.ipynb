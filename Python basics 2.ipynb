{
 "cells": [
  {
   "cell_type": "code",
   "execution_count": 1,
   "metadata": {},
   "outputs": [
    {
     "name": "stdout",
     "output_type": "stream",
     "text": [
      "30 22.2 Mighty God\n"
     ]
    }
   ],
   "source": [
    "TonyStark = 30\n",
    "SteveRogers = 22.2\n",
    "Thor = \"Mighty God\"\n",
    "\n",
    "print(TonyStark,SteveRogers,Thor)"
   ]
  },
  {
   "cell_type": "code",
   "execution_count": 9,
   "metadata": {},
   "outputs": [
    {
     "name": "stdout",
     "output_type": "stream",
     "text": [
      "30 22.2 Mighty God\n"
     ]
    }
   ],
   "source": [
    "TonyStark,SteveRogers,Thor = 30,22.2, \"Mighty God\"\n",
    "print(TonyStark,SteveRogers,Thor)"
   ]
  },
  {
   "cell_type": "code",
   "execution_count": 11,
   "metadata": {},
   "outputs": [
    {
     "name": "stdout",
     "output_type": "stream",
     "text": [
      "30 30 30\n"
     ]
    }
   ],
   "source": [
    "TonyStark = SteveRogers = Thor = 30\n",
    "print(TonyStark,SteveRogers,Thor)"
   ]
  },
  {
   "cell_type": "code",
   "execution_count": 17,
   "metadata": {},
   "outputs": [
    {
     "name": "stdout",
     "output_type": "stream",
     "text": [
      "140712923361952\n",
      "140712923361952\n"
     ]
    }
   ],
   "source": [
    "print(id(TonyStark))\n",
    "print(id(SteveRogers))"
   ]
  },
  {
   "cell_type": "code",
   "execution_count": 21,
   "metadata": {},
   "outputs": [
    {
     "name": "stdout",
     "output_type": "stream",
     "text": [
      "10 is a type of class: <class 'int'>\n"
     ]
    }
   ],
   "source": [
    "TonyStark = 10\n",
    "print(TonyStark, \"is a type of class:\", type(TonyStark))"
   ]
  },
  {
   "cell_type": "code",
   "execution_count": 22,
   "metadata": {},
   "outputs": [
    {
     "name": "stdout",
     "output_type": "stream",
     "text": [
      "22.2 is a type of class: <class 'float'>\n"
     ]
    }
   ],
   "source": [
    "SteveRogers = 22.2\n",
    "print(SteveRogers, \"is a type of class:\", type(SteveRogers))"
   ]
  },
  {
   "cell_type": "code",
   "execution_count": 23,
   "metadata": {},
   "outputs": [
    {
     "name": "stdout",
     "output_type": "stream",
     "text": [
      "(100+20j) is a type of class: <class 'complex'>\n"
     ]
    }
   ],
   "source": [
    "Thor = 100 + 20j\n",
    "print(Thor, \"is a type of class:\", type(Thor))"
   ]
  },
  {
   "cell_type": "code",
   "execution_count": 24,
   "metadata": {},
   "outputs": [
    {
     "name": "stdout",
     "output_type": "stream",
     "text": [
      "<class 'bool'>\n"
     ]
    }
   ],
   "source": [
    "BooleranVariable = True\n",
    "print(type(BooleranVariable))"
   ]
  },
  {
   "cell_type": "code",
   "execution_count": 26,
   "metadata": {},
   "outputs": [
    {
     "name": "stdout",
     "output_type": "stream",
     "text": [
      "Is (100+20j) is a type of complex ? True\n"
     ]
    }
   ],
   "source": [
    "print(\"Is\",Thor, \"is a type of complex ?\", isinstance(Thor,complex))"
   ]
  },
  {
   "cell_type": "code",
   "execution_count": 28,
   "metadata": {},
   "outputs": [
    {
     "name": "stdout",
     "output_type": "stream",
     "text": [
      "StringVariable : This is a String Variable\n"
     ]
    }
   ],
   "source": [
    "StringVariable = \"This is a String Variable\"\n",
    "print(\"StringVariable :\" , StringVariable)"
   ]
  },
  {
   "cell_type": "code",
   "execution_count": null,
   "metadata": {},
   "outputs": [],
   "source": [
    "print(\"The First letter in StringVariable is: \" ,StringVariable[0])\n",
    "print(StringVariable[-1:])"
   ]
  },
  {
   "cell_type": "code",
   "execution_count": 55,
   "metadata": {},
   "outputs": [
    {
     "name": "stdout",
     "output_type": "stream",
     "text": [
      "[1, 2.2, 'Infinty War', 3.5, 'EndGame']\n",
      "[1, 3.5, 'Infinty War', 3.5, 'EndGame']\n"
     ]
    }
   ],
   "source": [
    "mylist = [1, 2.2, \"Infinty War\", 3.5, \"EndGame\"]\n",
    "print(mylist)\n",
    "\n",
    "mylist[1] = 3.5\n",
    "print(mylist)"
   ]
  },
  {
   "cell_type": "code",
   "execution_count": 41,
   "metadata": {},
   "outputs": [
    {
     "name": "stdout",
     "output_type": "stream",
     "text": [
      "Infinty War\n"
     ]
    }
   ],
   "source": [
    "print(mylist[2])\n"
   ]
  },
  {
   "cell_type": "code",
   "execution_count": 44,
   "metadata": {},
   "outputs": [
    {
     "name": "stdout",
     "output_type": "stream",
     "text": [
      "[1, 'Infinty War', 'EndGame']\n"
     ]
    }
   ],
   "source": [
    "mylist.pop(2)\n",
    "print(mylist)"
   ]
  },
  {
   "cell_type": "code",
   "execution_count": 45,
   "metadata": {},
   "outputs": [
    {
     "name": "stdout",
     "output_type": "stream",
     "text": [
      "[1, 'Infinty War', 'EndGame', 'Conclusion']\n"
     ]
    }
   ],
   "source": [
    "mylist.append(\"Conclusion\")\n",
    "print(mylist)"
   ]
  },
  {
   "cell_type": "code",
   "execution_count": 46,
   "metadata": {},
   "outputs": [
    {
     "name": "stdout",
     "output_type": "stream",
     "text": [
      "(1, 2, 4.5, 'Infinity war', 'EndGame')\n"
     ]
    }
   ],
   "source": [
    "mytuple = (1,2 , 4.5 , \"Infinity war\", \"EndGame\")\n",
    "print(mytuple)"
   ]
  },
  {
   "cell_type": "code",
   "execution_count": null,
   "metadata": {},
   "outputs": [],
   "source": [
    "print(mytuple[2])"
   ]
  },
  {
   "cell_type": "code",
   "execution_count": 53,
   "metadata": {},
   "outputs": [
    {
     "name": "stdout",
     "output_type": "stream",
     "text": [
      "{40, 10, 50, 20, 30}\n",
      "<class 'set'>\n"
     ]
    }
   ],
   "source": [
    "myset = {10,20,30,40,50}\n",
    "print(myset)\n",
    "print(type(myset))"
   ]
  },
  {
   "cell_type": "code",
   "execution_count": 54,
   "metadata": {},
   "outputs": [
    {
     "ename": "TypeError",
     "evalue": "'set' object does not support indexing",
     "output_type": "error",
     "traceback": [
      "\u001b[1;31m---------------------------------------------------------------------------\u001b[0m",
      "\u001b[1;31mTypeError\u001b[0m                                 Traceback (most recent call last)",
      "\u001b[1;32m<ipython-input-54-f3b80e2a6691>\u001b[0m in \u001b[0;36m<module>\u001b[1;34m()\u001b[0m\n\u001b[1;32m----> 1\u001b[1;33m \u001b[0mprint\u001b[0m\u001b[1;33m(\u001b[0m\u001b[0mmyset\u001b[0m\u001b[1;33m[\u001b[0m\u001b[1;36m2\u001b[0m\u001b[1;33m]\u001b[0m\u001b[1;33m)\u001b[0m\u001b[1;33m\u001b[0m\u001b[0m\n\u001b[0m",
      "\u001b[1;31mTypeError\u001b[0m: 'set' object does not support indexing"
     ]
    }
   ],
   "source": [
    "print(myset[2])"
   ]
  },
  {
   "cell_type": "code",
   "execution_count": 62,
   "metadata": {},
   "outputs": [
    {
     "name": "stdout",
     "output_type": "stream",
     "text": [
      "{'key1': 100, 'key2': 200.5, 'key3': 'we are in the Endgame now'}\n"
     ]
    }
   ],
   "source": [
    "myDictionary = {'key1': 100 , 'key2' : 200.5 , 'key3' : 'we are in the Endgame now'}\n",
    "print(myDictionary)"
   ]
  },
  {
   "cell_type": "code",
   "execution_count": 65,
   "metadata": {},
   "outputs": [
    {
     "name": "stdout",
     "output_type": "stream",
     "text": [
      "200.5\n"
     ]
    }
   ],
   "source": [
    "print(myDictionary['key2'])\n"
   ]
  },
  {
   "cell_type": "code",
   "execution_count": 66,
   "metadata": {},
   "outputs": [
    {
     "name": "stdout",
     "output_type": "stream",
     "text": [
      "{'key1': 100, 'key2': 4003.23, 'key3': 'we are in the Endgame now'}\n"
     ]
    }
   ],
   "source": [
    "myDictionary['key2'] = 4003.23\n",
    "print(myDictionary)"
   ]
  },
  {
   "cell_type": "code",
   "execution_count": 67,
   "metadata": {},
   "outputs": [
    {
     "name": "stdout",
     "output_type": "stream",
     "text": [
      "{'key1': 100, 'key2': 4003.23, 'key3': 'we are in the Endgame now', 'key4': ' 26 April'}\n"
     ]
    }
   ],
   "source": [
    "myDictionary['key4'] = \" 26 April\"\n",
    "print(myDictionary)"
   ]
  },
  {
   "cell_type": "code",
   "execution_count": 68,
   "metadata": {},
   "outputs": [
    {
     "name": "stdout",
     "output_type": "stream",
     "text": [
      "{'key2': 4003.23, 'key3': 'we are in the Endgame now', 'key4': ' 26 April'}\n"
     ]
    }
   ],
   "source": [
    "del myDictionary['key1']\n",
    "print(myDictionary)"
   ]
  },
  {
   "cell_type": "code",
   "execution_count": 7,
   "metadata": {},
   "outputs": [
    {
     "data": {
      "text/plain": [
       "'5'"
      ]
     },
     "execution_count": 7,
     "metadata": {},
     "output_type": "execute_result"
    }
   ],
   "source": [
    "int(5.5)\n",
    "float(5)\n",
    "\n",
    "str(\"5\")"
   ]
  },
  {
   "cell_type": "code",
   "execution_count": 10,
   "metadata": {},
   "outputs": [
    {
     "name": "stdout",
     "output_type": "stream",
     "text": [
      "<class 'list'>\n",
      "['a', 'b', 'c', 'c']\n"
     ]
    }
   ],
   "source": [
    "mylist = ['a','b','c','c']\n",
    "print(type(mylist))\n",
    "print(mylist)"
   ]
  },
  {
   "cell_type": "code",
   "execution_count": 12,
   "metadata": {},
   "outputs": [
    {
     "name": "stdout",
     "output_type": "stream",
     "text": [
      "<class 'str'>\n",
      "['a', 'b', 'c', 'c']\n"
     ]
    }
   ],
   "source": [
    "string = str(mylist)\n",
    "print(type(string))\n",
    "print(string)"
   ]
  },
  {
   "cell_type": "code",
   "execution_count": 16,
   "metadata": {},
   "outputs": [
    {
     "name": "stdout",
     "output_type": "stream",
     "text": [
      "<class 'set'>\n",
      "{'b', 'a', 'c'}\n"
     ]
    }
   ],
   "source": [
    "set1 = set(mylist)\n",
    "print(type(set1))\n",
    "print(set1)"
   ]
  },
  {
   "cell_type": "code",
   "execution_count": 23,
   "metadata": {},
   "outputs": [
    {
     "name": "stdout",
     "output_type": "stream",
     "text": [
      "<class 'str'>\n",
      "<class 'list'>\n",
      "We are in the EndGame\n",
      "['W', 'e', ' ', 'a', 'r', 'e', ' ', 'i', 'n', ' ', 't', 'h', 'e', ' ', 'E', 'n', 'd', 'G', 'a', 'm', 'e']\n",
      "2421377084992\n"
     ]
    }
   ],
   "source": [
    "mystring1 = \"We are in the EndGame\"\n",
    "strtoList = list(mystring1)\n",
    "\n",
    "print(type(mystring1))\n",
    "print(type(strtoList))\n",
    "\n",
    "print(mystring1)\n",
    "print(strtoList)\n",
    "\n",
    "\n",
    "print(id(mystring1))"
   ]
  }
 ],
 "metadata": {
  "kernelspec": {
   "display_name": "Python 3",
   "language": "python",
   "name": "python3"
  },
  "language_info": {
   "codemirror_mode": {
    "name": "ipython",
    "version": 3
   },
   "file_extension": ".py",
   "mimetype": "text/x-python",
   "name": "python",
   "nbconvert_exporter": "python",
   "pygments_lexer": "ipython3",
   "version": "3.7.4"
  }
 },
 "nbformat": 4,
 "nbformat_minor": 2
}
